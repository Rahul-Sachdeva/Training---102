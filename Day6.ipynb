{
  "nbformat": 4,
  "nbformat_minor": 0,
  "metadata": {
    "colab": {
      "provenance": [],
      "authorship_tag": "ABX9TyPW/fNIlQPiGD+5NvhtI1cI",
      "include_colab_link": true
    },
    "kernelspec": {
      "name": "python3",
      "display_name": "Python 3"
    },
    "language_info": {
      "name": "python"
    }
  },
  "cells": [
    {
      "cell_type": "markdown",
      "metadata": {
        "id": "view-in-github",
        "colab_type": "text"
      },
      "source": [
        "<a href=\"https://colab.research.google.com/github/Rahul-Sachdeva/Training---102-Daily-Dairy/blob/main/Day6.ipynb\" target=\"_parent\"><img src=\"https://colab.research.google.com/assets/colab-badge.svg\" alt=\"Open In Colab\"/></a>"
      ]
    },
    {
      "cell_type": "markdown",
      "source": [
        "# **Day 6 of Training at Ansh Info Tech**\n",
        "\n",
        "## **Topics Covered**\n",
        "\n",
        "*   **List Comprehension**\n",
        "*   **Dictionary Comprehension**\n",
        "*   **Functions in Python**\n",
        "*   **Function Argument Types in Python**\n",
        "*   **User Defined Functions**\n",
        "*   **In Built Functions**\n",
        "*   **Lambda Functions, Recursive Functions**\n",
        "*   **20 Practice Questions on Python Functions**\n",
        "*   **20 Practice Questions on List and Dictionary Comprehension**\n",
        "*   **4 Real World Applications**\n",
        "*   **Text Adventure Game, Hangman Game, Contact Application, Expense Tracker**"
      ],
      "metadata": {
        "id": "yVHKLk3ukOS5"
      }
    },
    {
      "cell_type": "markdown",
      "source": [
        "**FUNCTIONS**\n",
        "\n",
        "**In Python, a function is defined using the def keyword, followed by the function name, parentheses containing any parameters, and a colon. The function body is indented and contains the code to be executed.**\n",
        ".\n",
        "\n",
        "**Types of Functions**\n",
        "\n",
        "**1.Built-in Functions: These are pre-defined functions provided by a programming language or environment. Examples include print(), len() in Python, and printf() in C.**\n",
        "\n",
        "**2.User-defined Functions: These are functions created by the programmer to perform specific tasks. They follow a defined structure with a name, parameters, and a body.**\n",
        "\n",
        "**3.Anonymous Functions (Lambda Functions): These are functions without a name, often used for short, simple operations**\n",
        "\n",
        "**4.Recursive Functions: These functions call themselves within their definition, useful for tasks that can be divided into similar subtasks.**\n",
        "\n"
      ],
      "metadata": {
        "id": "8ZdsFsEf0JYl"
      }
    },
    {
      "cell_type": "markdown",
      "source": [],
      "metadata": {
        "id": "4qOxLgkWocJc"
      }
    },
    {
      "cell_type": "code",
      "source": [
        "#define a function\n",
        "#syntax\n",
        "def function_name(paramenters):\n",
        "  #statement\n",
        "  pass\n",
        "\n"
      ],
      "metadata": {
        "id": "ArZBRGknhLM0"
      },
      "execution_count": null,
      "outputs": []
    },
    {
      "cell_type": "code",
      "source": [
        "#Lambda function\n",
        "add=lambda x,y:x+y\n",
        "print(add(2,3))"
      ],
      "metadata": {
        "id": "2J_5TEDb363x"
      },
      "execution_count": null,
      "outputs": []
    },
    {
      "cell_type": "code",
      "source": [
        "#Recursive function\n",
        "def factorial(n):\n",
        "  if n ==1:\n",
        "    return 1\n",
        "  else:\n",
        "    return n*factorial(n-1)"
      ],
      "metadata": {
        "id": "9EwIVddeg-kO"
      },
      "execution_count": null,
      "outputs": []
    },
    {
      "cell_type": "markdown",
      "source": [
        "## **Arguments in Functions**\n",
        "\n",
        "**Arguments are values passed to a function when it is called. They can be categorized as follows:**\n",
        "\n",
        "**1.Positional Arguments: These are arguments that are passed to a function in a specific order.**\n",
        "\n",
        "**2.Keyword Arguments: These are arguments passed to a function by explicitly naming each parameter and its corresponding value.**\n",
        "\n",
        "**3.Default Arguments: These are arguments that assume a default value if no value is provided during the function call**\n",
        "\n",
        "**4.Variable-length Arguments: *args (Non-keyword arguments): Allows a function to accept any number of positional arguments.**\n",
        "\n",
        "**kwargs (Keyword arguments): Allows a function to accept any number of keyword arguments **bold text**"
      ],
      "metadata": {
        "id": "IlZrqaJg4-Cy"
      }
    },
    {
      "cell_type": "code",
      "source": [
        "#Arbitary keyword\n",
        "def info(**kwargs):\n",
        "  for key,value in kwargs:\n",
        "    print(\"kwargs.iteam()\")"
      ],
      "metadata": {
        "id": "IuCn1OUS9ebU"
      },
      "execution_count": null,
      "outputs": []
    },
    {
      "cell_type": "code",
      "source": [
        "#positinal argument\n",
        "def subtract(a, b):\n",
        "    return a - b\n",
        "\n",
        "#result = add(2, 3)  # 2 and 3 are positional arguments"
      ],
      "metadata": {
        "id": "TP_SWt5B988c"
      },
      "execution_count": null,
      "outputs": []
    },
    {
      "cell_type": "code",
      "source": [
        "#keyword arguments\n",
        "def greet(name, message):\n",
        "    return f\"{message}, {name}!\"\n",
        "\n",
        "#result = greet(name=\"Alice\", message=\"Hello\")  # name and message are keyword arguments"
      ],
      "metadata": {
        "id": "jG94A-Nb_EkB"
      },
      "execution_count": null,
      "outputs": []
    },
    {
      "cell_type": "code",
      "source": [
        "Greeting = print(greet(name = \"Harsimar\", message = \"Hi\"))"
      ],
      "metadata": {
        "colab": {
          "base_uri": "https://localhost:8080/"
        },
        "id": "7N6Z7JF6p7c_",
        "outputId": "389c2851-4c7b-4ecf-8633-f39875943ff0"
      },
      "execution_count": null,
      "outputs": [
        {
          "output_type": "stream",
          "name": "stdout",
          "text": [
            "Hi, Harsimar!\n"
          ]
        }
      ]
    },
    {
      "cell_type": "code",
      "source": [
        "Greeting1 = print(greet(message = \"Hello\", name = \"Divyansh\"))"
      ],
      "metadata": {
        "colab": {
          "base_uri": "https://localhost:8080/"
        },
        "id": "iNUUKmKaqGW5",
        "outputId": "9a98ce7d-303f-4440-a003-027518d8eb78"
      },
      "execution_count": null,
      "outputs": [
        {
          "output_type": "stream",
          "name": "stdout",
          "text": [
            "Hello, Divyansh!\n"
          ]
        }
      ]
    },
    {
      "cell_type": "code",
      "source": [
        "#default arguments\n",
        "def greet(name, message=\"Hello\"):\n",
        "    return f\"{message}, {name}!\"\n",
        "\n",
        "result1 = greet(\"Alice\")          # Uses default message \"Hello\"\n",
        "result2 = greet(\"Bob\", \"Hi\")      # Uses provided message \"Hi\""
      ],
      "metadata": {
        "id": "7wfrB9bq_ZM3"
      },
      "execution_count": null,
      "outputs": []
    },
    {
      "cell_type": "code",
      "source": [
        "Greet = print(greet(\"Mehakpreet\"))"
      ],
      "metadata": {
        "colab": {
          "base_uri": "https://localhost:8080/"
        },
        "id": "x4uwshWMoG_v",
        "outputId": "189e73d6-f07e-4ff0-fd63-02a4791638b2"
      },
      "execution_count": null,
      "outputs": [
        {
          "output_type": "stream",
          "name": "stdout",
          "text": [
            "Hello, Mehakpreet!\n"
          ]
        }
      ]
    },
    {
      "cell_type": "code",
      "source": [
        "#variable length arguments(*args)\n",
        "def sum_all(*a):\n",
        "    return sum(a)\n",
        "\n",
        "#result = sum_all(1, 2, 3, 4)  # Accepts multiple positional arguments\n"
      ],
      "metadata": {
        "id": "Enh0kavV_nJF"
      },
      "execution_count": null,
      "outputs": []
    },
    {
      "cell_type": "code",
      "source": [
        "Summation = print(sum_all(67, 12, 178, 19, 90, 14, 25, 12, 45))"
      ],
      "metadata": {
        "colab": {
          "base_uri": "https://localhost:8080/"
        },
        "id": "Gdfwmsn3q5VE",
        "outputId": "08a0d650-8f1b-4af3-fbee-9dabb05a92f3"
      },
      "execution_count": null,
      "outputs": [
        {
          "output_type": "stream",
          "name": "stdout",
          "text": [
            "462\n"
          ]
        }
      ]
    },
    {
      "cell_type": "code",
      "source": [
        "#**kwargs\n",
        "def print_details(**g):\n",
        "    for key, value in g.items():\n",
        "        print(f\"{key}: {value}\")\n",
        "\n",
        "print_details(name=\"Alice\", age=30, city=\"New York\")\n"
      ],
      "metadata": {
        "id": "S7tmZYlq_5V7",
        "colab": {
          "base_uri": "https://localhost:8080/"
        },
        "outputId": "e672b562-fc13-453d-8586-92fe8cb7e01b"
      },
      "execution_count": null,
      "outputs": [
        {
          "output_type": "stream",
          "name": "stdout",
          "text": [
            "name: Alice\n",
            "age: 30\n",
            "city: New York\n"
          ]
        }
      ]
    },
    {
      "cell_type": "code",
      "source": [
        "print_details(Locality = \"Model Town\", Address = \"SCF, BLOCK-3, Third floor\", H_no= \"3\", St_no = \"4\")"
      ],
      "metadata": {
        "colab": {
          "base_uri": "https://localhost:8080/"
        },
        "id": "85RW-HOMrdIq",
        "outputId": "c802e81f-7ae6-483c-c5af-2ba023dc2088"
      },
      "execution_count": null,
      "outputs": [
        {
          "output_type": "stream",
          "name": "stdout",
          "text": [
            "Locality: Model Town\n",
            "Address: SCF, BLOCK-3, Third floor\n",
            "H_no: 3\n",
            "St_no: 4\n"
          ]
        }
      ]
    },
    {
      "cell_type": "markdown",
      "source": [
        "**PRACTICE QUESTIONS ON PYTHON FUNCTIONS:**\n",
        "\n",
        "1.Write a Python function that takes a string as input and returns the reverse of the string.\n",
        "\n",
        "2.Create a list of numbers. Write a function that finds and returns the maximum value in the list without using the built-in max() function.\n",
        "\n",
        "3.Define a function that accepts a list of integers and returns a new list containing only the even numbers from the original list.\n",
        "\n",
        "4.Implement a Python function to check if a given word is a palindrome (reads the same backward as forward).\n",
        "\n",
        "5.Create a dictionary with student names as keys and their corresponding ages as values. Write a function to find and print the names of students who are above a certain age.\n",
        "\n",
        "6.Develop a Python function that calculates the sum of squares for a given range of numbers.\n",
        "\n",
        "7.Write a recursive function that calculates the Fibonacci sequence for a given term.  \n",
        "\n",
        "8.Create a class called Rectangle with methods to calculate the area and perimeter. Initialize the class with the length and width as attributes.\n",
        "\n",
        "9.Implement a function that takes a list of strings and returns a new list with the strings sorted by their lengths in ascending order.\n",
        "\n",
        "10.Use a lambda function to filter a list of integers and return a new list containing only the numbers greater than 10.\n",
        "\n",
        "11.Write a function that takes a list of numbers and returns a new list containing only the unique elements.\n",
        "\n",
        "12.Create a Python function that accepts a string and counts the occurrences of each character. Return the result as a dictionary.\n",
        "\n",
        "13.Implement a function to calculate the average of a list of numbers without using the built-in sum() and len() functions.\n",
        "\n",
        "14.Write a function that checks if a given year is a leap year. A leap year is divisible by 4 but not divisible by 100 unless it is divisible by 400.\n",
        "\n",
        "15.Design a function that takes a list of strings and returns a new list with only the strings that have more than 5 characters.\n",
        "\n",
        "16.Create a function that accepts a sentence and counts the number of vowels (a, e, i, o, u) in it.  \n",
        "\n",
        "17.Write a Python function that takes a number and checks whether it is a prime number.\n",
        "\n",
        "18.Implement a function that reverses the order of words in a given sentence.\n",
        "\n",
        "19.Create a function to find and return the second-largest number in a list of integers.  \n",
        "\n",
        "20.Write a function that takes a string and returns True if it is a palindrome (ignoring spaces and\n",
        "case), and False otherwise.\n",
        "\n",
        "\n",
        "\n",
        "\n"
      ],
      "metadata": {
        "id": "zUDzjuwbA7p4"
      }
    },
    {
      "cell_type": "code",
      "source": [
        "# 1. Reverse a String\n",
        "def reverse_string(s):\n",
        "    return s[::-1]\n",
        "\n",
        "# 2. Find Maximum Value in a List\n",
        "def find_max(lst):\n",
        "    max_value = lst[0]\n",
        "    for num in lst:\n",
        "        if num > max_value:\n",
        "            max_value = num\n",
        "    return max_value\n",
        "\n",
        "# 3. Filter Even Numbers from a List\n",
        "def filter_even_numbers(lst):\n",
        "    return [num for num in lst if num % 2 == 0]\n",
        "\n",
        "# 4. Check if a Word is a Palindrome\n",
        "def is_palindrome(word):\n",
        "    return word == word[::-1]\n",
        "\n",
        "# 5. Find Students Above a Certain Age\n",
        "def students_above_age(students, age_threshold):\n",
        "    return [name for name, age in students.items() if age > age_threshold]\n",
        "\n",
        "# 6. Sum of Squares for a Given Range\n",
        "def sum_of_squares(start, end):\n",
        "    return sum(i**2 for i in range(start, end + 1))\n",
        "\n",
        "# 7. Fibonacci Sequence Using Recursion\n",
        "def fibonacci(n):\n",
        "    if n <= 0:\n",
        "        return 0\n",
        "    elif n == 1:\n",
        "        return 1\n",
        "    else:\n",
        "        return fibonacci(n - 1) + fibonacci(n - 2)\n",
        "\n",
        "# 8. Rectangle Class\n",
        "class Rectangle:\n",
        "    def __init__(self, length, width):\n",
        "        self.length = length\n",
        "        self.width = width\n",
        "\n",
        "    def area(self):\n",
        "        return self.length * self.width\n",
        "\n",
        "    def perimeter(self):\n",
        "        return 2 * (self.length + self.width)\n",
        "\n",
        "# 9. Sort Strings by Length\n",
        "def sort_by_length(lst):\n",
        "    return sorted(lst, key=len)\n",
        "\n",
        "# 10. Filter Numbers Greater Than 10 Using Lambda\n",
        "greater_than_10 = lambda lst: list(filter(lambda x: x > 10, lst))\n",
        "\n",
        "# 11. Return Unique Elements from a List\n",
        "def unique_elements(lst):\n",
        "    unique_list = []\n",
        "    for num in lst:\n",
        "        if num not in unique_list:\n",
        "            unique_list.append(num)\n",
        "    return unique_list\n",
        "\n",
        "# 12. Count Character Occurrences in a String\n",
        "def count_characters(s):\n",
        "    char_count = {}\n",
        "    for char in s:\n",
        "        if char in char_count:\n",
        "            char_count[char] += 1\n",
        "        else:\n",
        "            char_count[char] = 1\n",
        "    return char_count\n",
        "\n",
        "# 13. Calculate Average Without Built-in sum() and len()\n",
        "def calculate_average(lst):\n",
        "    total = 0\n",
        "    count = 0\n",
        "    for num in lst:\n",
        "        total += num\n",
        "        count += 1\n",
        "    return total / count if count != 0 else 0\n",
        "\n",
        "# 14. Check if a Year is a Leap Year\n",
        "def is_leap_year(year):\n",
        "    return year % 4 == 0 and (year % 100 != 0 or year % 400 == 0)\n",
        "\n",
        "# 15. Filter Strings with More Than 5 Characters\n",
        "def filter_long_strings(lst):\n",
        "    return [s for s in lst if len(s) > 5]\n",
        "\n",
        "# 16. Count Vowels in a Sentence\n",
        "def count_vowels(sentence):\n",
        "    vowels = \"aeiouAEIOU\"\n",
        "    count = 0\n",
        "    for char in sentence:\n",
        "        if char in vowels:\n",
        "            count += 1\n",
        "    return count\n",
        "\n",
        "# 17. Check if a Number is Prime\n",
        "def is_prime(n):\n",
        "    if n <= 1:\n",
        "        return False\n",
        "    for i in range(2, int(n**0.5) + 1):\n",
        "        if n % i == 0:\n",
        "            return False\n",
        "    return True\n",
        "\n",
        "# 18. Reverse the Order of Words in a Sentence\n",
        "def reverse_words(sentence):\n",
        "    return ' '.join(sentence.split()[::-1])\n",
        "\n",
        "# 19. Find the Second-Largest Number in a List\n",
        "def second_largest(lst):\n",
        "    first, second = float('-inf'), float('-inf')\n",
        "    for num in lst:\n",
        "        if num > first:\n",
        "            first, second = num, first\n",
        "        elif first > num > second:\n",
        "            second = num\n",
        "    return second\n",
        "\n",
        "# 20. Check if a String is a Palindrome (Ignoring Spaces and Case)\n",
        "def is_palindrome_ignore_spaces(s):\n",
        "    cleaned = ''.join(char.lower() for char in s if char.isalnum())\n",
        "    return cleaned == cleaned[::-1]\n",
        "\n",
        "# Example usage of the functions\n",
        "if __name__ == \"__main__\":\n",
        "    print(reverse_string(\"hello\"))  # Output: \"olleh\"\n",
        "    print(find_max([1, 2, 3, 4, 5]))  # Output: 5\n",
        "    print(filter_even_numbers([1, 2, 3, 4, 5]))  # Output: [2, 4]\n",
        "    print(is_palindrome(\"racecar\"))  # Output: True\n",
        "    students = {\"Alice\": 20, \"Bob\": 22, \"Charlie\": 17}\n",
        "    print(students_above_age(students, 18))  # Output: ['Alice', 'Bob']\n",
        "    print(sum_of_squares(1, 5))  # Output: 55\n",
        "    print(fibonacci(6))  # Output: 8\n",
        "    rect = Rectangle(4, 5)\n",
        "    print(rect.area())      # Output: 20\n",
        "    print(rect.perimeter()) # Output: 18\n",
        "    print(sort_by_length([\"apple\", \"banana\", \"kiwi\", \"cherry\"]))  # Output: ['kiwi', 'apple', 'cherry', 'banana']\n",
        "    print(greater_than_10([5, 11, 20, 3, 7]))  # Output: [11, 20]\n",
        "    print(unique_elements([1, 2, 2, 3, 4, 4, 5]))  # Output: [1, 2, 3, 4, 5]\n",
        "    print(count_characters(\"hello\"))  # Output: {'h': 1, 'e': 1, 'l': 2, 'o': 1}\n",
        "    print(calculate_average([1, 2, 3, 4, 5]))  # Output: 3.0\n",
        "    print(is_leap_year(2020))  # Output: True\n",
        "    print(filter_long_strings([\"apple\", \"banana\", \"kiwi\", \"cherry\"]))  # Output: ['banana', 'cherry']\n",
        "    print(count_vowels(\"hello world\"))  # Output: 3\n",
        "    print(is_prime(11))  # Output: True\n",
        "    print(reverse_words(\"hello world\"))  # Output: \"world hello\"\n",
        "    print(second_largest([1, 2, 3, 4, 5]))  # Output: 4\n",
        "    print(is_palindrome_ignore_spaces(\"A man a plan a canal Panama\"))  # Output: True\n"
      ],
      "metadata": {
        "colab": {
          "base_uri": "https://localhost:8080/"
        },
        "id": "-Up_HWRfmzG-",
        "outputId": "1f94bab9-2ade-433e-ef5f-9a4a237429f8"
      },
      "execution_count": null,
      "outputs": [
        {
          "output_type": "stream",
          "name": "stdout",
          "text": [
            "olleh\n",
            "5\n",
            "[2, 4]\n",
            "True\n",
            "['Alice', 'Bob']\n",
            "55\n",
            "8\n",
            "20\n",
            "18\n",
            "['kiwi', 'apple', 'banana', 'cherry']\n",
            "[11, 20]\n",
            "[1, 2, 3, 4, 5]\n",
            "{'h': 1, 'e': 1, 'l': 2, 'o': 1}\n",
            "3.0\n",
            "True\n",
            "['banana', 'cherry']\n",
            "3\n",
            "True\n",
            "world hello\n",
            "4\n",
            "True\n"
          ]
        }
      ]
    },
    {
      "cell_type": "markdown",
      "source": [
        "#Practice Questions on  List Comprehension\n",
        "\n",
        "1. You have a list of names. Use list comprehension to create a new list that contains only the names that start with the letter \"A\".\n",
        "\n",
        "2. Given a list of temperatures in Fahrenheit, use list comprehension to convert each temperature to Celsius and create a new list with these values.\n",
        "\n",
        "3. You are processing a list of numbers. Use list comprehension to create a new list that contains the squares of all the numbers in the original list.\n",
        "\n",
        "4. You have a list of words. Use list comprehension to create a new list that contains only the words that have more than 5 characters.\n",
        "\n",
        "5. Given a list of integers, use list comprehension to create a new list containing only the even numbers from the original list.\n",
        "\n",
        "6. You have a list of prices. Use list comprehension to apply a 10% discount to each price and create a new list with the discounted prices.\n",
        "\n",
        "7. You are working with a list of students' grades. Use list comprehension to create a new list that contains the grades that are greater than or equal to 60.\n",
        "\n",
        "8. Given a list of strings, use list comprehension to create a new list where each string is reversed.\n",
        "\n",
        "9. You have a list of tuples, each containing a product and its price. Use list comprehension to create a new list of products that cost more than $20.\n",
        "\n",
        "10. You are given a list of mixed data types. Use list comprehension to create a new list that contains only the integer values.\n",
        "\n",
        "#Practice Questions on Dictionary Comprehension\n",
        "\n",
        "1. You have a list of student names. Use dictionary comprehension to create a dictionary where the keys are the student names and the values are the lengths of those names.\n",
        "\n",
        "2. Given a list of numbers, use dictionary comprehension to create a dictionary where the keys are the numbers and the values are the squares of those numbers.\n",
        "\n",
        "3. You are given a list of fruits and their prices. Use dictionary comprehension to create a dictionary where the keys are the fruits and the values are the prices with a 5% tax added.\n",
        "\n",
        "4. You have a list of words. Use dictionary comprehension to create a dictionary where the keys are the words and the values are the number of vowels in each word.\n",
        "\n",
        "5. Given a list of employees and their salaries, use dictionary comprehension to create a dictionary where the keys are the employee names and the values are their salaries increased by 10%.\n",
        "\n",
        "6. You are working with a list of cities and their populations. Use dictionary comprehension to create a dictionary where the keys are the cities and the values are their populations in millions.\n",
        "\n",
        "7. Given a list of letters, use dictionary comprehension to create a dictionary where the keys are the letters and the values are their positions in the alphabet.\n",
        "\n",
        "8. You have a list of product names and their corresponding stock quantities. Use dictionary comprehension to create a dictionary where the keys are the product names and the values are \"In Stock\" or \"Out of Stock\" based on the quantity (consider 0 as \"Out of Stock\").\n",
        "\n",
        "9. Given a list of countries and their capitals, use dictionary comprehension to create a dictionary where the keys are the capitals and the values are the countries.\n",
        "\n",
        "10. You are given a list of file names with their extensions. Use dictionary comprehension to create a dictionary where the keys are the file names (without extensions) and the values are the extensions."
      ],
      "metadata": {
        "id": "CtiQOou5oeVW"
      }
    },
    {
      "cell_type": "code",
      "source": [
        "# List Comprehension\n",
        "\n",
        "# 1. Names starting with \"A\"\n",
        "def names_starting_with_A(names):\n",
        "    return [name for name in names if name.startswith('A')]\n",
        "\n",
        "print(names_starting_with_A([\"Alice\", \"Bob\", \"Amanda\"]))  # Output: [\"Alice\", \"Amanda\"]\n",
        "\n",
        "# 2. Convert Fahrenheit to Celsius\n",
        "def fahrenheit_to_celsius(f_temps):\n",
        "    return [(temp - 32) * 5/9 for temp in f_temps]\n",
        "\n",
        "print(fahrenheit_to_celsius([32, 68, 100]))  # Output: [0.0, 20.0, 37.77777777777778]\n",
        "\n",
        "# 3. Squares of numbers\n",
        "def squares_of_numbers(numbers):\n",
        "    return [num ** 2 for num in numbers]\n",
        "\n",
        "print(squares_of_numbers([1, 2, 3, 4]))  # Output: [1, 4, 9, 16]\n",
        "\n",
        "# 4. Words with more than 5 characters\n",
        "def words_more_than_5_chars(words):\n",
        "    return [word for word in words if len(word) > 5]\n",
        "\n",
        "print(words_more_than_5_chars([\"apple\", \"banana\", \"kiwi\", \"cherry\"]))  # Output: ['banana', 'cherry']\n",
        "\n",
        "# 5. Even numbers\n",
        "def even_numbers(numbers):\n",
        "    return [num for num in numbers if num % 2 == 0]\n",
        "\n",
        "print(even_numbers([1, 2, 3, 4, 5, 6]))  # Output: [2, 4, 6]\n",
        "\n",
        "# 6. Prices with 10% discount\n",
        "def discounted_prices(prices):\n",
        "    return [price * 0.9 for price in prices]\n",
        "\n",
        "print(discounted_prices([100, 200, 300]))  # Output: [90.0, 180.0, 270.0]\n",
        "\n",
        "# 7. Grades greater than or equal to 60\n",
        "def passing_grades(grades):\n",
        "    return [grade for grade in grades if grade >= 60]\n",
        "\n",
        "print(passing_grades([50, 65, 70, 45, 90]))  # Output: [65, 70, 90]\n",
        "\n",
        "# 8. Reversed strings\n",
        "def reversed_strings(strings):\n",
        "    return [s[::-1] for s in strings]\n",
        "\n",
        "print(reversed_strings([\"hello\", \"world\"]))  # Output: ['olleh', 'dlrow']\n",
        "\n",
        "# 9. Products costing more than $20\n",
        "def expensive_products(products):\n",
        "    return [product for product, price in products if price > 20]\n",
        "\n",
        "print(expensive_products([(\"apple\", 10), (\"banana\", 25), (\"kiwi\", 30)]))  # Output: ['banana', 'kiwi']\n",
        "\n",
        "# 10. Only integer values\n",
        "def only_integers(items):\n",
        "    return [item for item in items if isinstance(item, int)]\n",
        "\n",
        "print(only_integers([1, \"two\", 3.0, 4, \"five\"]))  # Output: [1, 4]\n",
        "\n",
        "# Dictionary Comprehension\n",
        "\n",
        "# 1. Student names and their lengths\n",
        "def student_name_lengths(names):\n",
        "    return {name: len(name) for name in names}\n",
        "\n",
        "print(student_name_lengths([\"Alice\", \"Bob\", \"Amanda\"]))  # Output: {'Alice': 5, 'Bob': 3, 'Amanda': 6}\n",
        "\n",
        "# 2. Numbers and their squares\n",
        "def number_squares(numbers):\n",
        "    return {num: num ** 2 for num in numbers}\n",
        "\n",
        "print(number_squares([1, 2, 3, 4]))  # Output: {1: 1, 2: 4, 3: 9, 4: 16}\n",
        "\n",
        "# 3. Fruits and their prices with tax\n",
        "def prices_with_tax(fruits_prices):\n",
        "    return {fruit: price * 1.05 for fruit, price in fruits_prices.items()}\n",
        "\n",
        "print(prices_with_tax({\"apple\": 1.0, \"banana\": 0.5}))  # Output: {'apple': 1.05, 'banana': 0.525}\n",
        "\n",
        "# 4. Words and the number of vowels\n",
        "def count_vowels(words):\n",
        "    vowels = \"aeiouAEIOU\"\n",
        "    return {word: sum(1 for char in word if char in vowels) for word in words}\n",
        "\n",
        "print(count_vowels([\"apple\", \"banana\", \"kiwi\", \"cherry\"]))  # Output: {'apple': 2, 'banana': 3, 'kiwi': 2, 'cherry': 2}\n",
        "\n",
        "# 5. Employee salaries with 10% increase\n",
        "def increased_salaries(employees_salaries):\n",
        "    return {employee: salary * 1.10 for employee, salary in employees_salaries.items()}\n",
        "\n",
        "print(increased_salaries({\"Alice\": 50000, \"Bob\": 60000}))  # Output: {'Alice': 55000.0, 'Bob': 66000.0}\n",
        "\n",
        "# 6. Cities and populations in millions\n",
        "def populations_in_millions(cities_populations):\n",
        "    return {city: population / 1_000_000 for city, population in cities_populations.items()}\n",
        "\n",
        "print(populations_in_millions({\"CityA\": 1000000, \"CityB\": 2500000}))  # Output: {'CityA': 1.0, 'CityB': 2.5}\n",
        "\n",
        "# 7. Letters and their positions in the alphabet\n",
        "def letter_positions(letters):\n",
        "    return {letter: ord(letter.lower()) - 96 for letter in letters}\n",
        "\n",
        "print(letter_positions([\"a\", \"b\", \"c\", \"z\"]))  # Output: {'a': 1, 'b': 2, 'c': 3, 'z': 26}\n",
        "\n",
        "# 8. Products and their stock status\n",
        "def stock_status(products_quantities):\n",
        "    return {product: (\"In Stock\" if quantity > 0 else \"Out of Stock\") for product, quantity in products_quantities.items()}\n",
        "\n",
        "print(stock_status({\"apple\": 10, \"banana\": 0}))  # Output: {'apple': 'In Stock', 'banana': 'Out of Stock'}\n",
        "\n",
        "# 9. Capitals and their countries\n",
        "def capitals_to_countries(countries_capitals):\n",
        "    return {capital: country for country, capital in countries_capitals.items()}\n",
        "\n",
        "print(capitals_to_countries({\"USA\": \"Washington\", \"France\": \"Paris\"}))  # Output: {'Washington': 'USA', 'Paris': 'France'}\n",
        "\n",
        "# 10. File names and their extensions\n",
        "def file_extensions(files):\n",
        "    return {file.split('.')[0]: file.split('.')[1] for file in files}\n",
        "\n",
        "print(file_extensions([\"file1.txt\", \"file2.doc\", \"image.png\"]))  # Output: {'file1': 'txt', 'file2': 'doc', 'image': 'png'}\n"
      ],
      "metadata": {
        "id": "T9gFYsGlopdc"
      },
      "execution_count": null,
      "outputs": []
    },
    {
      "cell_type": "markdown",
      "source": [
        "1. Text-Based Adventure Game\n",
        "Assignment Description:\n",
        "Develop a text-based adventure game where the player can navigate through different rooms, pick up items, and interact with objects and characters. Implement at least three different rooms and a simple inventory system.\n",
        "\n",
        "Requirements:\n",
        "\n",
        "* Use functions to handle different rooms and actions.\n",
        "* Store items in a dictionary.\n",
        "* Include user input for navigation and actions.\n",
        "* Ensure the game loops until the player decides to quit.    "
      ],
      "metadata": {
        "id": "4ujEPADnGUhK"
      }
    },
    {
      "cell_type": "code",
      "source": [
        "def create_rooms():\n",
        "    rooms = {'Hall': {\n",
        "            'description':'You are in the Hall. There is a door to the east',\n",
        "            'east':'Kitchen',\n",
        "            'items': ['key']\n",
        "        },\n",
        "             'Kitchen': {\n",
        "                 'description': 'You are in the Kitchen. There is a door to the west and south',\n",
        "                 'west': 'Hall',\n",
        "                 'south': 'Garden',\n",
        "                 'items': ['apple', 'banana']\n",
        "        },\n",
        "             'Garden': {\n",
        "                 'description': 'You are in the Garden. There is a door to the north',\n",
        "                 'north': 'Kitchen',\n",
        "                 'items': ['flower']\n",
        "        }\n",
        "    }\n",
        "    return rooms\n",
        "\n",
        "def process_command(rooms, current_room, inventory, command):\n",
        "    command = command.lower().split()\n",
        "    if not command:\n",
        "        print(\"unknown command\")\n",
        "        return current_room\n",
        "    action = command[0]\n",
        "    if action == 'go':\n",
        "        if(len(command)>1):\n",
        "            direction = command[1]\n",
        "            if(rooms[current_room][direction]):\n",
        "                current_room = rooms[current_room][direction]\n",
        "                return current_room\n",
        "            else:\n",
        "                print(\"There is no way\")\n",
        "                return current_room\n",
        "        else:\n",
        "            print(\"where do you want to go?\")\n",
        "            return current_room\n",
        "    elif action == 'look':\n",
        "        print(rooms[current_room]['description'])\n",
        "        print(f\"You see the Following Items: {', '.join(rooms[current_room]['items'])}\" )\n",
        "    elif action == 'pick':\n",
        "        if(len(command)>1):\n",
        "            item = command[1]\n",
        "            if item in rooms[current_room]['items']:\n",
        "                inventory.append(item)\n",
        "            else:\n",
        "                print(\"Unknown Item\")\n",
        "        else:\n",
        "            print(\"Pick up What?\")\n",
        "    elif action == 'inventory':\n",
        "        if (not inventory):\n",
        "            print(\"Your Inventory is empty\")\n",
        "        else:\n",
        "            print(f\"Your Inventory: {', '.join(inventory)}\")\n",
        "    elif action == 'quit':\n",
        "        print(\"Thanks For Playing\")\n",
        "    else:\n",
        "        print(\"unknown command\")\n",
        "    return current_room\n",
        "\n",
        "\n",
        "def main():\n",
        "    rooms = create_rooms()\n",
        "    inventory = []\n",
        "    current_room = \"Hall\"\n",
        "    print(\"Welcome to the text based Adventure Game\")\n",
        "    print(\"Type 'quit' to Exit the Game \\n\")\n",
        "    while True:\n",
        "        print(f\"You are in the {current_room}\")\n",
        "        command = input(\"Enter a Command:\")\n",
        "        current_room = process_command(rooms, current_room, inventory, command)\n",
        "\n",
        "if __name__ == \"__main__\":\n",
        "    main()\n",
        ""
      ],
      "metadata": {
        "id": "cTslmHSA0iXK"
      },
      "execution_count": null,
      "outputs": []
    },
    {
      "cell_type": "markdown",
      "source": [
        "2. Contact Book Application\n",
        "Assignment Description:\n",
        "Create a contact book application that allows users to add, remove, search, and list contacts. Ensure that contacts persist by saving them to a file.\n",
        "\n",
        "Requirements:\n",
        "\n",
        "* Implement functions for adding, removing, searching, and listing contacts.\n",
        "* Use file I/O to save and load contacts.\n",
        "* Handle exceptions for file operations and invalid input."
      ],
      "metadata": {
        "id": "TdSUsmuYzJ8-"
      }
    },
    {
      "cell_type": "code",
      "source": [
        "import json\n",
        "\n",
        "CONTACT_FILE = \"contacts.json\"\n",
        "\n",
        "def add_contact(contacts):\n",
        "    name = input(\"Enter contact name: \").strip()\n",
        "    phone = input(\"Enter contact phone number: \").strip()\n",
        "    email = input(\"Enter contact email: \").strip()\n",
        "    contact = {\"name\": name, \"phone\": phone, \"email\": email}\n",
        "    contacts.append(contact)\n",
        "    save_contacts(contacts)\n",
        "    print(f\"Contact '{name}' added successfully.\")\n",
        "\n",
        "def remove_contact(contacts):\n",
        "    name = input(\"Enter the name of the contact to remove: \").strip()\n",
        "    for contact in contacts:\n",
        "        if contact['name'].lower() == name.lower():\n",
        "            contacts.remove(contact)\n",
        "            save_contacts(contacts)\n",
        "            print(f\"Contact '{name}' removed successfully.\")\n",
        "            return\n",
        "    print(f\"Contact '{name}' not found.\")\n",
        "\n",
        "def search_contact(contacts):\n",
        "    name = input(\"Enter the name of the contact to search for: \").strip()\n",
        "    found_contacts = [contact for contact in contacts if name.lower() in contact['name'].lower()]\n",
        "    if found_contacts:\n",
        "        for contact in found_contacts:\n",
        "            print(f\"Name: {contact['name']}, Phone: {contact['phone']}, Email: {contact['email']}\")\n",
        "    else:\n",
        "        print(f\"No contacts found matching '{name}'.\")\n",
        "\n",
        "def list_contacts(contacts):\n",
        "    if not contacts:\n",
        "        print(\"No contacts found.\")\n",
        "        return\n",
        "    for contact in contacts:\n",
        "        print(f\"Name: {contact['name']}, Phone: {contact['phone']}, Email: {contact['email']}\")\n",
        "\n",
        "def save_contacts(contacts):\n",
        "    try:\n",
        "        with open(CONTACT_FILE, 'w') as file:\n",
        "            json.dump(contacts, file)\n",
        "    except IOError as e:\n",
        "        print(f\"An error occurred while saving contacts: {e}\")\n",
        "\n",
        "def load_contacts():\n",
        "    try:\n",
        "        with open(CONTACT_FILE, 'r') as file:\n",
        "            return json.load(file)\n",
        "    except FileNotFoundError:\n",
        "        return []\n",
        "    except json.JSONDecodeError:\n",
        "        return []\n",
        "    except IOError as e:\n",
        "        print(f\"An error occurred while loading contacts: {e}\")\n",
        "        return []\n",
        "\n",
        "def main():\n",
        "    contacts = load_contacts()\n",
        "    while True:\n",
        "        print(\"\\nContact Book\")\n",
        "        print(\"1. Add Contact\")\n",
        "        print(\"2. Remove Contact\")\n",
        "        print(\"3. Search Contact\")\n",
        "        print(\"4. List Contacts\")\n",
        "        print(\"5. Quit\")\n",
        "        choice = input(\"Choose an option: \")\n",
        "\n",
        "        if choice == '1':\n",
        "            add_contact(contacts)\n",
        "        elif choice == '2':\n",
        "            remove_contact(contacts)\n",
        "        elif choice == '3':\n",
        "            search_contact(contacts)\n",
        "        elif choice == '4':\n",
        "            list_contacts(contacts)\n",
        "        elif choice == '5':\n",
        "            break\n",
        "        else:\n",
        "            print(\"Invalid choice. Please choose again.\")\n",
        "\n",
        "if __name__ == \"__main__\":\n",
        "    main()\n"
      ],
      "metadata": {
        "id": "PlQWFs5n0fhQ"
      },
      "execution_count": null,
      "outputs": []
    },
    {
      "cell_type": "markdown",
      "source": [
        "3. Hangman Game\n",
        "Assignment Description:\n",
        "Develop a text-based version of the hangman game where the player has to guess the word by suggesting letters. The game should display the current state of the word and the number of incorrect guesses left.\n",
        "\n",
        "Requirements:\n",
        "\n",
        "* Store the word to be guessed and track guessed letters.\n",
        "* Update and display the word state after each guess.\n",
        "* Limit the number of incorrect guesses and end the game accordingly."
      ],
      "metadata": {
        "id": "Dmx97Lti0dUC"
      }
    },
    {
      "cell_type": "code",
      "source": [
        "import random\n",
        "\n",
        "def choose_word():\n",
        "    words = ['python', 'hangman', 'challenge', 'programming', 'openai']\n",
        "    return random.choice(words)\n",
        "\n",
        "def display_word_state(word, guessed_letters):\n",
        "    return ' '.join([letter if letter in guessed_letters else '_' for letter in word])\n",
        "\n",
        "def hangman():\n",
        "    word = choose_word()\n",
        "    guessed_letters = set()\n",
        "    incorrect_guesses = 6\n",
        "\n",
        "    print(\"Welcome to Hangman!\")\n",
        "\n",
        "    while incorrect_guesses > 0:\n",
        "        print(f\"\\nWord: {display_word_state(word, guessed_letters)}\")\n",
        "        print(f\"Incorrect guesses left: {incorrect_guesses}\")\n",
        "        guess = input(\"Guess a letter: \").lower()\n",
        "\n",
        "        if len(guess) != 1 or not guess.isalpha():\n",
        "            print(\"Please enter a single letter.\")\n",
        "            continue\n",
        "\n",
        "        if guess in guessed_letters:\n",
        "            print(\"You've already guessed that letter.\")\n",
        "            continue\n",
        "\n",
        "        guessed_letters.add(guess)\n",
        "\n",
        "        if guess in word:\n",
        "            print(f\"Good guess! {guess} is in the word.\")\n",
        "            if all(letter in guessed_letters for letter in word):\n",
        "                print(f\"\\nCongratulations! You've guessed the word: {word}\")\n",
        "                break\n",
        "        else:\n",
        "            incorrect_guesses -= 1\n",
        "            print(f\"Wrong guess. {guess} is not in the word.\")\n",
        "            if incorrect_guesses == 0:\n",
        "                print(f\"\\nSorry, you've run out of guesses. The word was: {word}\")\n",
        "\n",
        "if __name__ == \"__main__\":\n",
        "    hangman()\n"
      ],
      "metadata": {
        "colab": {
          "base_uri": "https://localhost:8080/"
        },
        "id": "1-5KhtWHGVIA",
        "outputId": "19b534ea-3ba2-40b1-f9ad-d7f1a8fc159d"
      },
      "execution_count": null,
      "outputs": [
        {
          "output_type": "stream",
          "name": "stdout",
          "text": [
            "Welcome to Hangman!\n",
            "\n",
            "Word: _ _ _ _ _ _ _\n",
            "Incorrect guesses left: 6\n",
            "Guess a letter: a\n",
            "Good guess! a is in the word.\n",
            "\n",
            "Word: _ a _ _ _ a _\n",
            "Incorrect guesses left: 6\n",
            "Guess a letter: r\n",
            "Wrong guess. r is not in the word.\n",
            "\n",
            "Word: _ a _ _ _ a _\n",
            "Incorrect guesses left: 5\n",
            "Guess a letter: h\n",
            "Good guess! h is in the word.\n",
            "\n",
            "Word: h a _ _ _ a _\n",
            "Incorrect guesses left: 5\n",
            "Guess a letter: n\n",
            "Good guess! n is in the word.\n",
            "\n",
            "Word: h a n _ _ a n\n",
            "Incorrect guesses left: 5\n",
            "Guess a letter: g\n",
            "Good guess! g is in the word.\n",
            "\n",
            "Word: h a n g _ a n\n",
            "Incorrect guesses left: 5\n",
            "Guess a letter: m\n",
            "Good guess! m is in the word.\n",
            "\n",
            "Congratulations! You've guessed the word: hangman\n"
          ]
        }
      ]
    },
    {
      "cell_type": "markdown",
      "source": [
        "4. Expense Tracker\n",
        "Assignment Description:\n",
        "Build an expense tracker that allows users to log their daily expenses and generate a report of total expenditures.\n",
        "\n",
        "Requirements:\n",
        "\n",
        "* Create functions to add and list expenses.\n",
        "* Use file I/O to save and load expense data.\n",
        "* Generate a summary report of total expenditures."
      ],
      "metadata": {
        "id": "sNTQbjvZ0h6z"
      }
    },
    {
      "cell_type": "code",
      "source": [
        "import json\n",
        "\n",
        "EXPENSE_FILE = \"expenses.json\"\n",
        "\n",
        "def add_expense(expenses):\n",
        "    date = input(\"Enter the date (YYYY-MM-DD): \")\n",
        "    description = input(\"Enter the description: \")\n",
        "    amount = float(input(\"Enter the amount: \"))\n",
        "    expense = {\"date\": date, \"description\": description, \"amount\": amount}\n",
        "    expenses.append(expense)\n",
        "    save_expenses(expenses)\n",
        "    print(\"Expense added successfully.\")\n",
        "\n",
        "def list_expenses(expenses):\n",
        "    if not expenses:\n",
        "        print(\"No expenses recorded.\")\n",
        "        return\n",
        "    for expense in expenses:\n",
        "        print(f\"Date: {expense['date']}, Description: {expense['description']}, Amount: {expense['amount']}\")\n",
        "\n",
        "def save_expenses(expenses):\n",
        "    with open(EXPENSE_FILE, 'w') as file:\n",
        "        json.dump(expenses, file)\n",
        "\n",
        "def load_expenses():\n",
        "    try:\n",
        "        with open(EXPENSE_FILE, 'r') as file:\n",
        "            return json.load(file)\n",
        "    except FileNotFoundError:\n",
        "        return []\n",
        "\n",
        "def generate_report(expenses):\n",
        "    total = sum(expense['amount'] for expense in expenses)\n",
        "    print(f\"Total expenditures: {total:.2f}\")\n",
        "\n",
        "def main():\n",
        "    expenses = load_expenses()\n",
        "    while True:\n",
        "        print(\"\\nExpense Tracker\")\n",
        "        print(\"1. Add Expense\")\n",
        "        print(\"2. List Expenses\")\n",
        "        print(\"3. Generate Report\")\n",
        "        print(\"4. Quit\")\n",
        "        choice = input(\"Choose an option: \")\n",
        "\n",
        "        if choice == '1':\n",
        "            add_expense(expenses)\n",
        "        elif choice == '2':\n",
        "            list_expenses(expenses)\n",
        "        elif choice == '3':\n",
        "            generate_report(expenses)\n",
        "        elif choice == '4':\n",
        "            break\n",
        "        else:\n",
        "            print(\"Invalid choice. Please choose again.\")\n",
        "\n",
        "if __name__ == \"__main__\":\n",
        "    main()\n"
      ],
      "metadata": {
        "colab": {
          "base_uri": "https://localhost:8080/"
        },
        "id": "0hzwP0IhzPGE",
        "outputId": "b68c8156-b06f-4bcd-bd64-54ca4c4611df"
      },
      "execution_count": null,
      "outputs": [
        {
          "output_type": "stream",
          "name": "stdout",
          "text": [
            "\n",
            "Expense Tracker\n",
            "1. Add Expense\n",
            "2. List Expenses\n",
            "3. Generate Report\n",
            "4. Quit\n"
          ]
        }
      ]
    }
  ]
}