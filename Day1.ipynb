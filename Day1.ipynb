{
  "nbformat": 4,
  "nbformat_minor": 0,
  "metadata": {
    "colab": {
      "provenance": [],
      "authorship_tag": "ABX9TyO+WPCBOPek2uAn5x3SEYqP",
      "include_colab_link": true
    },
    "kernelspec": {
      "name": "python3",
      "display_name": "Python 3"
    },
    "language_info": {
      "name": "python"
    }
  },
  "cells": [
    {
      "cell_type": "markdown",
      "metadata": {
        "id": "view-in-github",
        "colab_type": "text"
      },
      "source": [
        "<a href=\"https://colab.research.google.com/github/Rahul-Sachdeva/Training---102/blob/main/Day1.ipynb\" target=\"_parent\"><img src=\"https://colab.research.google.com/assets/colab-badge.svg\" alt=\"Open In Colab\"/></a>"
      ]
    },
    {
      "cell_type": "markdown",
      "source": [
        "**Day 1 of Training at Ansh Info Tech**\n",
        "\n",
        "***Topics Covered***\n",
        "\n",
        "\n",
        "*   Introduction to Python in AI\n",
        "*   Introduction to Google Colab\n",
        "*   Variables in Python\n",
        "*   Data Types in Python\n",
        "*   Operators in Python - Arithmetic, Relational etc.\n",
        "*   10+ Practice Questions at the bottom of the file\n"
      ],
      "metadata": {
        "id": "Z6fOxoVN_Pla"
      }
    },
    {
      "cell_type": "code",
      "execution_count": null,
      "metadata": {
        "colab": {
          "base_uri": "https://localhost:8080/"
        },
        "id": "m3B9nP4Txt4v",
        "outputId": "aa846e37-a46e-4005-af06-22e93ab40b3a"
      },
      "outputs": [
        {
          "output_type": "stream",
          "name": "stdout",
          "text": [
            "Hello World\n",
            "<class 'tuple'>\n",
            "<class 'complex'>\n",
            "7\n",
            "0\n",
            "25\n",
            "2.5\n",
            "2\n",
            "1\n",
            "8\n",
            "<class 'int'>\n",
            "<class 'float'>\n",
            "<class 'bool'>\n",
            "132\n",
            "19\n",
            "Raisin Percentage:  38.46153846153847\n",
            "Almond Percentage: 46.15384615384615\n",
            "Apricots Percentage: 15.384615384615385\n"
          ]
        }
      ],
      "source": [
        "print(\"Hello World\")\n",
        "a = 5\n",
        "b = 7.5\n",
        "c = True\n",
        "d = 4.5j\n",
        "e = 4,5\n",
        "# if = 5\n",
        "# print(if)\n",
        "print(type(e))\n",
        "print(type(d))\n",
        "print(2+5) #Addition\n",
        "print(5-5) #subtraction\\\n",
        "print(5*5) # Multiplicaton\n",
        "print(5/2) # Division\n",
        "print(5//2) #Floor Division\n",
        "print(5%2) #Remainder\n",
        "print(2**3) #Exponential\n",
        "print(type(a))\n",
        "print(type(b))\n",
        "print(type(c))\n",
        "\n",
        "print(2+10*(10+3))\n",
        "wins = 6\n",
        "draws = 1\n",
        "losses = 2\n",
        "\n",
        "print(wins*3+draws*1+losses*0)\n",
        "#Precedence ->\n",
        "# ()\n",
        "# **\n",
        "# *, /, %, //\n",
        "# +, -\n",
        "\n",
        "raisins = 50\n",
        "almonds = 60\n",
        "apricots = 20\n",
        "total = raisins + almonds + apricots\n",
        "\n",
        "print(\"Raisin Percentage: \", raisins/total*100)\n",
        "print(\"Almond Percentage: \"+ str(almonds/total*100))\n",
        "print(\"Apricots Percentage: \"+ str(apricots/total*100))\n",
        "\n",
        "\n",
        "\n",
        "#Python Basics\n",
        "# Variables, Operators, Google Colab Introduction,type()\n",
        "\n",
        "\n",
        "\n",
        "\n"
      ]
    },
    {
      "cell_type": "markdown",
      "source": [],
      "metadata": {
        "id": "oH7IEG8v_MXJ"
      }
    },
    {
      "cell_type": "markdown",
      "source": [
        "1. *You're creating a program to manage a zoo's animal population. Declare a variable lion_population with an initial value of 10. The zoo welcomes 5 new lion cubs. Update the lion_population variable and print the total lion population.*\n"
      ],
      "metadata": {
        "id": "ipoi3BMXx8Hg"
      }
    },
    {
      "cell_type": "code",
      "source": [
        "lion_population = 10\n",
        "lion_population += 5\n",
        "print(lion_population)"
      ],
      "metadata": {
        "colab": {
          "base_uri": "https://localhost:8080/"
        },
        "id": "nQLWQpSex9mG",
        "outputId": "ae394244-b2ba-4ad0-c633-a48241a9177a"
      },
      "execution_count": null,
      "outputs": [
        {
          "output_type": "stream",
          "name": "stdout",
          "text": [
            "15\n"
          ]
        }
      ]
    },
    {
      "cell_type": "markdown",
      "source": [
        "You're developing a weather monitoring system. Declare a variable temperature with a value of 25.5 degrees Celsius. Due to a sudden heatwave, the temperature increases by 8 degrees. Update and print the new temperature.*\n"
      ],
      "metadata": {
        "id": "7sfSfPSDyOjI"
      }
    },
    {
      "cell_type": "code",
      "source": [
        "temp = 25.5\n",
        "temp += 8\n",
        "print(temp)"
      ],
      "metadata": {
        "colab": {
          "base_uri": "https://localhost:8080/"
        },
        "id": "zifKRSpDyRZH",
        "outputId": "49e169fb-ef08-4379-c088-e28a20e1159a"
      },
      "execution_count": null,
      "outputs": [
        {
          "output_type": "stream",
          "name": "stdout",
          "text": [
            "33.5\n"
          ]
        }
      ]
    },
    {
      "cell_type": "markdown",
      "source": [
        "*A science experiment involves tracking the growth of a plant. Declare a variable plant_height with an initial value of 15 centimeters. Over a week, the plant grows 2.5 centimeters taller each day. Update and print the final height of the plant after the week.*\n"
      ],
      "metadata": {
        "id": "kZU5hZ32yYfe"
      }
    },
    {
      "cell_type": "code",
      "source": [
        "plant_height = 15\n",
        "growth_each_day = 2.5\n",
        "final_plant_height = plant_height + 7*growth_each_day\n",
        "print(final_plant_height)"
      ],
      "metadata": {
        "colab": {
          "base_uri": "https://localhost:8080/"
        },
        "id": "MnPdpYUTybfR",
        "outputId": "6292797a-7b84-45d3-98ed-f90464588947"
      },
      "execution_count": null,
      "outputs": [
        {
          "output_type": "stream",
          "name": "stdout",
          "text": [
            "32.5\n"
          ]
        }
      ]
    },
    {
      "cell_type": "code",
      "source": [],
      "metadata": {
        "id": "8Y-fUZbwDaKP"
      },
      "execution_count": null,
      "outputs": []
    },
    {
      "cell_type": "markdown",
      "source": [
        "You're designing a space mission trajectory. Declare variables initial_velocity and acceleration with values 3000 meters per second and 500 meters per second squared respectively. Calculate and print the final velocity after 10 seconds.*"
      ],
      "metadata": {
        "id": "Hpmgc1k_ywxT"
      }
    },
    {
      "cell_type": "code",
      "source": [
        "initial_velocity = 3000\n",
        "acc = 500\n",
        "time = 10\n",
        "final_velocity = initial_velocity + acc*time\n",
        "print(final_velocity)"
      ],
      "metadata": {
        "colab": {
          "base_uri": "https://localhost:8080/"
        },
        "id": "OeVcVSknyy8N",
        "outputId": "66e4c66c-cb1f-4029-9b2b-efd43354d9a2"
      },
      "execution_count": null,
      "outputs": [
        {
          "output_type": "stream",
          "name": "stdout",
          "text": [
            "8000\n"
          ]
        }
      ]
    },
    {
      "cell_type": "markdown",
      "source": [
        "*A group of friends is sharing a pizza. Declare a variable pizza_slices with a value of 8. Each friend wants to have an equal number of slices, and there are 5 friends. Calculate and print the maximum number of slices each friend can have without cutting the pizza.*\n"
      ],
      "metadata": {
        "id": "iD0jsP6izBpk"
      }
    },
    {
      "cell_type": "code",
      "source": [
        "pizza_slices = 8\n",
        "num_friends = 5\n",
        "max_slices_per_friend = pizza_slices // num_friends\n",
        "print(max_slices_per_friend)\n"
      ],
      "metadata": {
        "id": "p4RA9CnazE4o"
      },
      "execution_count": null,
      "outputs": []
    },
    {
      "cell_type": "markdown",
      "source": [
        "*You're modeling the movement of a pendulum. Declare a variable pendulum_length with a value of 1.2 meters. Calculate and print the period of oscillation (time taken for one complete swing) using the formula ( T = 2pi * sqrt{{L}/{g}} ), where pi (approximately 3.14159) and \\( g \\) is the acceleration due to gravity (approximately \\( 9.81 \\) meters per second squared).*"
      ],
      "metadata": {
        "id": "uZFvqD1HzNod"
      }
    },
    {
      "cell_type": "code",
      "source": [
        "\n",
        "\n",
        "pendulum_length = 1.2  # meters\n",
        "pi = 3.14159\n",
        "gravity = 9.81  # meters per second squared\n",
        "\n",
        "period = 2 * pi * (pendulum_length / gravity)**0.5\n",
        "\n",
        "\n",
        "print(\"Period of oscillation:\", period, \"seconds\")\n"
      ],
      "metadata": {
        "colab": {
          "base_uri": "https://localhost:8080/"
        },
        "id": "gQmMTa4fzc-q",
        "outputId": "4eb022b9-21e6-41a5-d82e-447a65a9d472"
      },
      "execution_count": null,
      "outputs": [
        {
          "output_type": "stream",
          "name": "stdout",
          "text": [
            "Period of oscillation: 2.197534089590265 seconds\n"
          ]
        }
      ]
    },
    {
      "cell_type": "markdown",
      "source": [
        "*A software company is tracking the number of bugs in their codebase. Declare a variable bug_count with an initial value of 100. After a round of debugging, 35 bugs are fixed. Update and print the new bug_count.*"
      ],
      "metadata": {
        "id": "aeYkUvCZz3D9"
      }
    },
    {
      "cell_type": "code",
      "source": [
        "bug_count = 100\n",
        "bug_count -= 35\n",
        "print(bug_count)"
      ],
      "metadata": {
        "colab": {
          "base_uri": "https://localhost:8080/"
        },
        "id": "xVP42MQaz61i",
        "outputId": "2bbb1573-7154-4f34-b43e-8776f1482413"
      },
      "execution_count": null,
      "outputs": [
        {
          "output_type": "stream",
          "name": "stdout",
          "text": [
            "65\n"
          ]
        }
      ]
    },
    {
      "cell_type": "markdown",
      "source": [
        "*You're building a game where players collect gems. Declare a variable gem_count with an initial value of 50. Each time a player finds a gem, 5 gems are added to their collection. Update and print the new gem_count.*"
      ],
      "metadata": {
        "id": "My57Nudi0BHB"
      }
    },
    {
      "cell_type": "code",
      "source": [
        "gem_count = 50\n",
        "gem_collected = int(input(\"Enter the Number of Gems Collected: \"))\n",
        "new_gem_count = gem_count + gem_collected*5\n",
        "print(\"New Gem Count: \", new_gem_count)"
      ],
      "metadata": {
        "colab": {
          "base_uri": "https://localhost:8080/"
        },
        "id": "KoMYIWDR0EQs",
        "outputId": "b45d7764-4417-41a9-a36a-f4041f351915"
      },
      "execution_count": null,
      "outputs": [
        {
          "output_type": "stream",
          "name": "stdout",
          "text": [
            "Enter the Number of Gems Collected: 5\n",
            "New Gem Count:  75\n"
          ]
        }
      ]
    },
    {
      "cell_type": "markdown",
      "source": [
        "*A fitness tracker is monitoring a user's heart rate variability (HRV). Declare a variable hrv_index with an initial value of 80. After a relaxation session, the user's HRV improves by 10 points. Update and print the new hrv_index.*\n"
      ],
      "metadata": {
        "id": "9W1KYaA_0bVq"
      }
    },
    {
      "cell_type": "code",
      "source": [
        "hrv_index = 80\n",
        "hrv_index += 10\n",
        "print(hrv_index)"
      ],
      "metadata": {
        "colab": {
          "base_uri": "https://localhost:8080/"
        },
        "id": "8zR7W9rg0e7P",
        "outputId": "627d7150-387b-4740-9f7f-e565492294f3"
      },
      "execution_count": null,
      "outputs": [
        {
          "output_type": "stream",
          "name": "stdout",
          "text": [
            "90\n"
          ]
        }
      ]
    },
    {
      "cell_type": "markdown",
      "source": [
        "*You're simulating the growth of a bacterial colony. Declare a variable bacteria_count with an initial value of 5000. Over a day, the colony doubles in size every 4 hours. Update and print the new bacteria_count.*"
      ],
      "metadata": {
        "id": "cp1Vy_fX0pWG"
      }
    },
    {
      "cell_type": "code",
      "source": [
        "bacteria_count = 5000\n",
        "hours = 24\n",
        "double_hours = 4\n",
        "no_of_doubled = hours/double_hours\n",
        "bacteria_count = bacteria_count * 2**no_of_doubled\n",
        "print(bacteria_count)"
      ],
      "metadata": {
        "colab": {
          "base_uri": "https://localhost:8080/"
        },
        "id": "yupItggc0tCv",
        "outputId": "ff7f1c2d-9b41-4824-edf7-47c3cf754e5d"
      },
      "execution_count": null,
      "outputs": [
        {
          "output_type": "stream",
          "name": "stdout",
          "text": [
            "320000.0\n"
          ]
        }
      ]
    },
    {
      "cell_type": "markdown",
      "source": [],
      "metadata": {
        "id": "ZUIifqzAyv3d"
      }
    }
  ]
}