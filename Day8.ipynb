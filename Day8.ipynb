{
  "nbformat": 4,
  "nbformat_minor": 0,
  "metadata": {
    "colab": {
      "provenance": [],
      "authorship_tag": "ABX9TyOODL5T4HwIMNr2w0KeHDFL",
      "include_colab_link": true
    },
    "kernelspec": {
      "name": "python3",
      "display_name": "Python 3"
    },
    "language_info": {
      "name": "python"
    }
  },
  "cells": [
    {
      "cell_type": "markdown",
      "metadata": {
        "id": "view-in-github",
        "colab_type": "text"
      },
      "source": [
        "<a href=\"https://colab.research.google.com/github/Rahul-Sachdeva/Training---102-Daily-Dairy/blob/main/Day8.ipynb\" target=\"_parent\"><img src=\"https://colab.research.google.com/assets/colab-badge.svg\" alt=\"Open In Colab\"/></a>"
      ]
    },
    {
      "cell_type": "markdown",
      "source": [
        "#     **Day 8 of Training at Ansh Info Tech**\n",
        "##    ***Topics Covered***\n",
        "###   **Object Oriented Programming in Python**\n",
        "\n",
        "* **Abstraction in Python**\n",
        "* **Encapsulation in Python**\n",
        "* **Access Specifiers in Python**\n",
        "* **Class Diagram**\n",
        "* **Questions on Access Specifiers**\n",
        "* **10+ Practice Questions on these Topics**\n"
      ],
      "metadata": {
        "id": "qJB4_nd0DQMj"
      }
    },
    {
      "cell_type": "code",
      "execution_count": null,
      "metadata": {
        "colab": {
          "base_uri": "https://localhost:8080/"
        },
        "id": "30zU5Cq8DCF4",
        "outputId": "83980689-8e8b-41b3-b0f0-c6419aa5438f"
      },
      "outputs": [
        {
          "output_type": "stream",
          "name": "stdout",
          "text": [
            "John\n",
            "20\n",
            "Jane\n",
            "21\n"
          ]
        }
      ],
      "source": [
        "# ability to use something without having to know the details of how it is working is abstraction\n",
        "# we can put a lock on that datta by adding a double underscore in front of it.\n",
        "# Adding a double underscore makes the attribute private and are accessible only inside the class.\n",
        "# This method of restricting access is Encapsulation\n",
        "# When we put a double underscore in front of an attribute, python changes its name to _className__attributeName\n",
        "class Student:\n",
        "  def __init__(self, name, age):\n",
        "    self.__name = name\n",
        "    self.__age = age\n",
        "  def get_name(self):\n",
        "    return self.__name\n",
        "  def get_age(self):\n",
        "    return self.__age\n",
        "  def set_name(self, name):\n",
        "    self.__name = name\n",
        "  def set_age(self, age):\n",
        "    self.__age = age\n",
        "s1 = Student(\"John\", 20)\n",
        "print(s1.get_name())\n",
        "print(s1.get_age())\n",
        "s1.set_name(\"Jane\")\n",
        "s1.set_age(21)\n",
        "print(s1.get_name())\n",
        "print(s1.get_age())"
      ]
    },
    {
      "cell_type": "markdown",
      "source": [
        "# **Exercise on Access Specifiers - Level 1**\n",
        "\n",
        "In the Athlete class given below,\n",
        "\n",
        "*  make all the attributes private and\n",
        "*  add the necessary accessor and mutator methods\n",
        "\n",
        "Represent Maria, the runner and make her run."
      ],
      "metadata": {
        "id": "wZU--ITfXo-U"
      }
    },
    {
      "cell_type": "code",
      "source": [
        "\n",
        "class Athlete:\n",
        "    def __init__(self,name,gender):\n",
        "        self.name=name\n",
        "        self.gender=gender\n",
        "\n",
        "    def running(self):\n",
        "        if(self.gender==\"girl\"):\n",
        "            print(\"150mtr running\")\n",
        "        else:\n",
        "            print(\"200mtr running\")\n"
      ],
      "metadata": {
        "id": "g86LGc3hSMcl"
      },
      "execution_count": null,
      "outputs": []
    },
    {
      "cell_type": "code",
      "source": [
        "class Athlete:\n",
        "  def __init__(self, name, gender):\n",
        "    self.__name = name\n",
        "    self.__gender = gender\n",
        "  def get_name(self):\n",
        "    return self.__name\n",
        "  def get_gender(self):\n",
        "    return self.__gender\n",
        "  def set_name(self, name):\n",
        "    self.__name = name\n",
        "  def set_gender(self, gender):\n",
        "    self.__gender = gender\n",
        "  def running(self):\n",
        "    if self.__gender == \"girl\":\n",
        "      print(\"150 mtr running\")\n",
        "    else:\n",
        "      print(\"200 mtr running\")\n",
        "a1 = Athlete(\"Maria\", \"girl\")\n",
        "a1.running()\n",
        "\n",
        "a2 = Athlete(\"John\", \"boy\")\n",
        "a2.running()\n",
        "a2.__name = \"Hero\"\n",
        "print(a2._Athlete__name)"
      ],
      "metadata": {
        "colab": {
          "base_uri": "https://localhost:8080/"
        },
        "id": "7UVt52_LIedl",
        "outputId": "6de60e27-1e20-40bc-a3da-12c953f1bfe5"
      },
      "execution_count": null,
      "outputs": [
        {
          "output_type": "stream",
          "name": "stdout",
          "text": [
            "150 mtr running\n",
            "200 mtr running\n",
            "John\n"
          ]
        }
      ]
    },
    {
      "cell_type": "markdown",
      "source": [
        "#Practice Questions:\n",
        "\n",
        "#Question 1: Library Management System\n",
        "\n",
        "Scenario: You are tasked with developing a library management system where users can borrow and return books.\n",
        "\n",
        "Requirements:\n",
        "\n",
        "Create a Book class that has the following private attributes: title, author, and isbn.\n",
        "Implement methods to get and set the values of these attributes (getters and setters).\n",
        "Create a Library class that has a list of Book objects.\n",
        "Implement methods to add a new book, remove a book by its ISBN, and list all available books.\n",
        "Use encapsulation to ensure that the books can only be manipulated through the Library class.\n",
        "Task:\n",
        "\n",
        "Implement the Book and Library classes with proper encapsulation.\n",
        "Add methods to add, remove, and list books in the library."
      ],
      "metadata": {
        "id": "B7hi6fb8JwJX"
      }
    },
    {
      "cell_type": "code",
      "source": [
        "class Book:\n",
        "  def __init__(self, title, author, isbn):\n",
        "    self.__title = title\n",
        "    self.__author = author\n",
        "    self.__isbn = isbn\n",
        "  def get_title(self):\n",
        "    return self.__title\n",
        "  def get_author(self):\n",
        "    return self.__author\n",
        "  def get_isbn(self):\n",
        "    return self.__isbn\n",
        "  def set_title(self, title):\n",
        "    self.__title = title\n",
        "  def set_author(self, author):\n",
        "    self.__author = author\n",
        "  def set_isbn(self, isbn):\n",
        "    self.__isbn = isbn\n",
        "\n",
        "class Library:\n",
        "  def __init__(self):\n",
        "    self.__books = []\n",
        "  def add_book(self, book):\n",
        "    self.__books.append(book)\n",
        "  def remove_book(self, isbn):\n",
        "    for book in self.__books:\n",
        "      if book.get_isbn() == isbn:\n",
        "        self.__books.remove(book)\n",
        "        break\n",
        "    else:\n",
        "      print(\"Book not found\")\n",
        "  def list_books(self):\n",
        "    for book in self.__books:\n",
        "      print(f\"Title: {book.get_title()}, Author: {book.get_author()}, ISBN: {book.get_isbn()}\")\n",
        "\n",
        "Library = Library()\n",
        "Library.add_book(Book(\"Book 1\", \"Author 1\", \"ISBN1\"))\n",
        "Library.add_book(Book(\"Book 2\", \"Author 2\", \"ISBN2\"))\n",
        "Library.remove_book(\"ISBN2\")\n",
        "Library.list_books()\n"
      ],
      "metadata": {
        "colab": {
          "base_uri": "https://localhost:8080/"
        },
        "id": "grpILZqfKE0X",
        "outputId": "3e061b9a-c7c4-4be4-fff8-34351d6a5bee"
      },
      "execution_count": null,
      "outputs": [
        {
          "output_type": "stream",
          "name": "stdout",
          "text": [
            "Title: Book 1, Author: Author 1, ISBN: ISBN1\n"
          ]
        }
      ]
    },
    {
      "cell_type": "markdown",
      "source": [
        "Question 2: Bank Account Management\n",
        "Scenario: Develop a bank account management system where users can create accounts, deposit, and withdraw money.\n",
        "\n",
        "Requirements:\n",
        "\n",
        "Create a BankAccount class with private attributes: account_number, account_holder, and balance.\n",
        "Implement methods to get the account details and balance (getters).\n",
        "Implement methods to deposit and withdraw money, ensuring that the balance cannot go negative.\n",
        "Use encapsulation to ensure that the balance cannot be directly modified.\n",
        "Task:\n",
        "\n",
        "Implement the BankAccount class with proper encapsulation.\n",
        "Add methods to deposit and withdraw money, and to get account details."
      ],
      "metadata": {
        "id": "4tXuwZALL3PG"
      }
    },
    {
      "cell_type": "code",
      "source": [
        "class BankAccount:\n",
        "  def __init__(self, account_number, account_holder, balance):\n",
        "    self.__account_number = account_number\n",
        "    self.__account_holder = account_holder\n",
        "    self.__balance = balance\n",
        "  def get_account_number(self):\n",
        "    return self.__account_number\n",
        "  def get_account_holder(self):\n",
        "    return self.__account_holder\n",
        "  def get_balance(self):\n",
        "    return self.__balance\n",
        "  def deposit(self, amount):\n",
        "    if amount > 0:\n",
        "      self.__balance += amount\n",
        "  def withdraw(self, amount):\n",
        "    if amount > 0 and self.__balance - amount >= 0:\n",
        "      self.__balance -= amount\n",
        "    else:\n",
        "      print(\"Insufficient Balance, cannot Withdraw Money\")\n",
        "  def displayAccountDetails(self):\n",
        "    print(\"Account Number:\", self.__account_number)\n",
        "    print(\"Account Holder:\", self.__account_holder)\n",
        "    print(\"Balance:\", self.__balance)\n",
        "Account1 = BankAccount(\"123456789\", \"John Doe\", 1000)\n",
        "Account1.deposit(500)\n",
        "Account1.withdraw(200)\n",
        "Account1.displayAccountDetails()\n",
        "Account2 = BankAccount(\"987654321\", \"Jane Smith\", 2000)\n",
        "Account2.deposit(1000)\n",
        "Account2.withdraw(5500)\n",
        "Account2.displayAccountDetails()\n"
      ],
      "metadata": {
        "colab": {
          "base_uri": "https://localhost:8080/"
        },
        "id": "qQYbz5JnMJ5J",
        "outputId": "6f9fac68-186d-4f2f-bdfe-cc8015366c7d"
      },
      "execution_count": null,
      "outputs": [
        {
          "output_type": "stream",
          "name": "stdout",
          "text": [
            "Account Number: 123456789\n",
            "Account Holder: John Doe\n",
            "Balance: 1300\n",
            "Insufficient Balance, cannot Withdraw Money\n",
            "Account Number: 987654321\n",
            "Account Holder: Jane Smith\n",
            "Balance: 3000\n"
          ]
        }
      ]
    },
    {
      "cell_type": "markdown",
      "source": [
        "Question 3: Employee Management System\n",
        "Scenario: You are developing an employee management system for a company.\n",
        "\n",
        "Requirements:\n",
        "\n",
        "Create an Employee class with private attributes: employee_id, name, position, and salary.\n",
        "Implement methods to get and set the values of these attributes, with validation on the salary (e.g., salary cannot be negative).\n",
        "Create a Department class that has a list of Employee objects.\n",
        "Implement methods to add a new employee, remove an employee by their ID, and list all employees in the department.\n",
        "Use encapsulation to ensure that employees can only be manipulated through the Department class.\n",
        "Task:\n",
        "\n",
        "Implement the Employee and Department classes with proper encapsulation.\n",
        "Add methods to add, remove, and list employees in the department."
      ],
      "metadata": {
        "id": "O2Vxt2LFM_6t"
      }
    },
    {
      "cell_type": "code",
      "source": [
        "class Employee:\n",
        "  def __init__(self, employee_id, name, position, salary):\n",
        "    self.__employee_id = employee_id\n",
        "    self.__name = name\n",
        "    self.__position = position\n",
        "    if(salary > 0):\n",
        "      self.__salary = salary\n",
        "    else:\n",
        "      raise ValueError(\"Salary cannot be negative\")\n",
        "  def get_id(self):\n",
        "    return self.__employee_id\n",
        "  def get_name(self):\n",
        "    return self.__name\n",
        "  def get_position(self):\n",
        "    return self.__position\n",
        "  def get_salary(self):\n",
        "    return self.__salary\n",
        "  def set_id(self, employee_id):\n",
        "    self.__employee_id = employee_id\n",
        "  def set_name(self, name):\n",
        "    self.__name = name\n",
        "  def set_position(self, position):\n",
        "    self.__position = position\n",
        "class Department:\n",
        "  def __init__(self):\n",
        "    self.__employees = []\n",
        "  def add_employee(self, employee):\n",
        "    self.__employees.append(employee)\n",
        "  def remove_employee(self, employee_id):\n",
        "    for employee in self.__employees:\n",
        "      if employee.get_id() == employee_id:\n",
        "        self.__employees.remove(employee)\n",
        "        return\n",
        "    else:\n",
        "      print(\"Employee Not Found\")\n",
        "  def list_employees(self):\n",
        "    for employee in self.__employees:\n",
        "      print(\"Employee ID:\", employee.get_id())\n",
        "      print(\"Name:\", employee.get_name())\n",
        "      print(\"Position:\", employee.get_position())\n",
        "      print(\"Salary:\", employee.get_salary())\n",
        "\n",
        "dept = Department()\n",
        "dept.add_employee(Employee(\"1\", \"John Doe\", \"Manager\", 50000))\n",
        "dept.add_employee(Employee(\"2\", \"Jane Smith\", \"Developer\", 60000))\n",
        "dept.remove_employee(\"2\")\n",
        "dept.list_employees()"
      ],
      "metadata": {
        "colab": {
          "base_uri": "https://localhost:8080/"
        },
        "id": "rUYHBodLNAwP",
        "outputId": "45719f71-251f-460a-f70d-f708e92e1e37"
      },
      "execution_count": null,
      "outputs": [
        {
          "output_type": "stream",
          "name": "stdout",
          "text": [
            "Employee not found\n",
            "Employee ID: 1\n",
            "Name: John Doe\n",
            "Position: Manager\n",
            "Salary: 50000\n"
          ]
        }
      ]
    },
    {
      "cell_type": "markdown",
      "source": [
        "Question 4: Online Shopping System\n",
        "Scenario: Develop an online shopping system where users can add products to a shopping cart and view the total cost.\n",
        "\n",
        "Requirements:\n",
        "\n",
        "Create a Product class with private attributes: product_id, name, and price.\n",
        "Implement methods to get the product details (getters).\n",
        "Create a ShoppingCart class that has a list of Product objects.\n",
        "Implement methods to add a product to the cart, remove a product by its ID, and calculate the total cost of all products in the cart.\n",
        "Use encapsulation to ensure that products in the cart can only be manipulated through the ShoppingCart class.\n",
        "Task:\n",
        "\n",
        "Implement the Product and ShoppingCart classes with proper encapsulation.\n",
        "Add methods to add, remove, and list products in the cart, and to calculate the total cost.\n"
      ],
      "metadata": {
        "id": "dmGVkFP8Uj2q"
      }
    },
    {
      "cell_type": "code",
      "source": [
        "class Product:\n",
        "  def __init__(self, product_id, name, price):\n",
        "    self.__product_id = product_id\n",
        "    self.__name = name\n",
        "    self.__price = price\n",
        "  def get_product_id(self):\n",
        "    return self.__product_id\n",
        "  def get_name(self):\n",
        "    return self.__name\n",
        "  def get_price(self):\n",
        "    return self.__price\n",
        "  def set_product_id(self, product_id):\n",
        "    self.__product_id = product_id\n",
        "  def set_name(self, name):\n",
        "    self.__name = name\n",
        "  def set_price(self, price):\n",
        "    self.__price = price\n",
        "  def displayProductDetails(self):\n",
        "    print(\"Product ID:\", self.__product_id)\n",
        "    print(\"Name:\", self.__name)\n",
        "    print(\"Price:\", self.__price)\n",
        "class ShoppingCart:\n",
        "  def __init__(self):\n",
        "    self.__products = []\n",
        "  def add_product(self, product):\n",
        "    self.__products.append(product)\n",
        "  def remove_product(self, product_id):\n",
        "    for product in self.__products:\n",
        "      if product.get_product_id() == product_id:\n",
        "        self.__products.remove(product)\n",
        "        return\n",
        "    else:\n",
        "      print(\"Product Not Found\")\n",
        "  def calculate_total_cost(self):\n",
        "    total_cost = 0\n",
        "    for product in self.__products:\n",
        "      total_cost += product.get_price()\n",
        "    return total_cost\n",
        "  def list_products(self):\n",
        "    for product in self.__products:\n",
        "      product.displayProductDetails()\n",
        "\n",
        "ShoppingCart = ShoppingCart()\n",
        "ShoppingCart.add_product(Product(\"1\", \"Product 1\", 10))\n",
        "ShoppingCart.add_product(Product(\"2\", \"Product 2\", 20))\n",
        "ShoppingCart.add_product(Product(\"3\", \"Product 3\", 60))\n",
        "ShoppingCart.add_product(Product(\"4\", \"Product 4\", 50))\n",
        "ShoppingCart.remove_product(\"2\")\n",
        "print(\"Total Cost:\", ShoppingCart.calculate_total_cost())\n",
        "ShoppingCart.list_products()"
      ],
      "metadata": {
        "colab": {
          "base_uri": "https://localhost:8080/"
        },
        "id": "Vw0364ErUp7d",
        "outputId": "a6adb3d2-7122-457a-f164-86b953bc9801"
      },
      "execution_count": null,
      "outputs": [
        {
          "output_type": "stream",
          "name": "stdout",
          "text": [
            "Total Cost: 120\n",
            "Product ID: 1\n",
            "Name: Product 1\n",
            "Price: 10\n",
            "Product ID: 3\n",
            "Name: Product 3\n",
            "Price: 60\n",
            "Product ID: 4\n",
            "Name: Product 4\n",
            "Price: 50\n"
          ]
        }
      ]
    },
    {
      "cell_type": "markdown",
      "source": [
        "Question 5: School Management System\n",
        "Scenario: Develop a school management system where you can manage students and their courses.\n",
        "\n",
        "Requirements:\n",
        "\n",
        "Create a Student class with private attributes: student_id, name, and courses (a list of course names).\n",
        "Implement methods to get and set the student's details and courses (getters and setters).\n",
        "Create a School class that has a list of Student objects.\n",
        "Implement methods to add a new student, remove a student by their ID, and list all students and their courses.\n",
        "Use encapsulation to ensure that students can only be manipulated through the School class.\n",
        "Task:\n",
        "\n",
        "Implement the Student and School classes with proper encapsulation.\n",
        "Add methods to add, remove, and list students and their courses."
      ],
      "metadata": {
        "id": "TsF7loonVUZZ"
      }
    },
    {
      "cell_type": "code",
      "source": [
        "class Student:\n",
        "  def __init__(self, student_id, name, courses):\n",
        "    self.__student_id = student_id\n",
        "    self.__name = name\n",
        "    self.__courses = courses\n",
        "  def get_student_id(self):\n",
        "    return self.__student_id\n",
        "  def get_name(self):\n",
        "    return self.__name\n",
        "  def get_courses(self):\n",
        "    return self.__courses\n",
        "  def set_student_id(self, student_id):\n",
        "    self.__student_id = student_id\n",
        "  def set_name(self, name):\n",
        "    self.__name = name\n",
        "  def set_courses(self, courses):\n",
        "    self.__courses = courses\n",
        "class School:\n",
        "  def __init__(self):\n",
        "    self.__students = []\n",
        "  def add_student(self, student):\n",
        "    self.__students.append(student)\n",
        "  def remove_student(self, student_id):\n",
        "    for student in self.__students:\n",
        "      if student.get_student_id() == student_id:\n",
        "        self.__students.remove(student)\n",
        "        return\n",
        "    else:\n",
        "      print(\"Student Not Found\")\n",
        "  def list_students(self):\n",
        "    for student in self.__students:\n",
        "      print(\"Student ID:\", student.get_student_id())\n",
        "      print(\"Name:\", student.get_name())\n",
        "      print(\"Courses:\", student.get_courses())\n",
        "\n",
        "School = School()\n",
        "School.add_student(Student(\"1\", \"John Doe\", [\"Math\", \"Science\"]))\n",
        "School.add_student(Student(\"2\", \"Jane Smith\", [\"English\", \"History\"]))\n",
        "School.add_student(Student(\"3\", \"Michael Johnson\", [\"Computer Science\", \"Art\"]))\n",
        "School.remove_student(\"2\")\n",
        "School.list_students()\n"
      ],
      "metadata": {
        "colab": {
          "base_uri": "https://localhost:8080/"
        },
        "id": "T9JIaj_BVaHh",
        "outputId": "bcd96a9f-7c2c-4360-f7b7-401a92b4c5cb"
      },
      "execution_count": null,
      "outputs": [
        {
          "output_type": "stream",
          "name": "stdout",
          "text": [
            "Student ID: 1\n",
            "Name: John Doe\n",
            "Courses: ['Math', 'Science']\n",
            "Student ID: 3\n",
            "Name: Michael Johnson\n",
            "Courses: ['Computer Science', 'Art']\n"
          ]
        }
      ]
    },
    {
      "cell_type": "markdown",
      "source": [
        "Question 6: Car Rental System\n",
        "Scenario: Develop a car rental system where users can rent and return cars.\n",
        "\n",
        "Requirements:\n",
        "\n",
        "Create a Car class with private attributes: car_id, make, model, and availability (boolean).\n",
        "Implement methods to get and set the car's details and availability (getters and setters).\n",
        "Create a CarRental class that has a list of Car objects.\n",
        "Implement methods to add a new car, remove a car by its ID, and list all available cars.\n",
        "Implement methods to rent a car (set its availability to False) and return a car (set its availability to True).\n",
        "Use encapsulation to ensure that cars can only be manipulated through the CarRental class.\n",
        "Task:\n",
        "\n",
        "Implement the Car and CarRental classes with proper encapsulation.\n",
        "Add methods to add, remove, list, rent, and return cars."
      ],
      "metadata": {
        "id": "4vwXcUuvWYOi"
      }
    },
    {
      "cell_type": "code",
      "source": [
        "class Car:\n",
        "  def __init__(self, car_id, make, model, availability):\n",
        "    self.__car_id = car_id\n",
        "    self.__make = make\n",
        "    self.__model = model\n",
        "    self.__availability = availability\n",
        "  def get_car_id(self):\n",
        "    return self.__car_id\n",
        "  def get_make(self):\n",
        "    return self.__make\n",
        "  def get_model(self):\n",
        "    return self.__model\n",
        "  def get_availability(self):\n",
        "    return self.__availability\n",
        "  def set_car_id(self, car_id):\n",
        "    self.__car_id = car_id\n",
        "  def set_make(self, make):\n",
        "    self.__make = make\n",
        "  def set_model(self, model):\n",
        "    self.__model = model\n",
        "  def set_availability(self, availability):\n",
        "    self.__availability = availability\n",
        "  def displayCarDetails(self):\n",
        "    print(\"Car ID:\", self.__car_id)\n",
        "    print(\"Make:\", self.__make)\n",
        "    print(\"Model:\", self.__model)\n",
        "    print(\"Availability:\", self.__availability)\n",
        "class carRental:\n",
        "  def __init__(self):\n",
        "    self.__cars = []\n",
        "  def add_car(self, car):\n",
        "    self.__cars.append(car)\n",
        "  def remove_car(self, car_id):\n",
        "    for car in self.__cars:\n",
        "      if car.get_car_id() == car_id:\n",
        "        self.__cars.remove(car)\n",
        "        return\n",
        "    else:\n",
        "      print(\"Car Not Found\")\n",
        "  def list_cars(self):\n",
        "    for car in self.__cars:\n",
        "      car.displayCarDetails()\n",
        "\n",
        "  def rent_car(self, car_id):\n",
        "    for car in self.__cars:\n",
        "      if car.get_car_id() == car_id and car.get_availability()==True:\n",
        "        car.set_availability(False)\n",
        "        return\n",
        "    else:\n",
        "      print(\"Car Not Found or Car Not Available\")\n",
        "  def return_car(self, car_id):\n",
        "    for car in self.__cars:\n",
        "      if car.get_car_id() == car_id and not car.get_availability():\n",
        "        car.set_availability(True)\n",
        "        return\n",
        "    else:\n",
        "      print(\"Car Not Found or Car Already Available\")\n",
        "\n",
        "carRental = carRental()\n",
        "carRental.add_car(Car(\"1\", \"Toyota\", \"Corolla\", True))\n",
        "carRental.add_car(Car(\"2\", \"Honda\", \"Civic\", True))\n",
        "carRental.add_car(Car(\"3\", \"Ford\", \"Mustang\", True))\n",
        "carRental.remove_car(\"2\")\n",
        "carRental.list_cars()\n",
        "carRental.rent_car(\"1\")\n",
        "carRental.return_car(\"3\")\n",
        "carRental.rent_car(\"3\")\n",
        "carRental.return_car(\"3\")\n",
        "carRental.list_cars()"
      ],
      "metadata": {
        "colab": {
          "base_uri": "https://localhost:8080/"
        },
        "id": "v_mL0xsLWhaN",
        "outputId": "fc717e37-50f4-4667-cd9d-8b4d6d7bafcf"
      },
      "execution_count": null,
      "outputs": [
        {
          "output_type": "stream",
          "name": "stdout",
          "text": [
            "Car ID: 1\n",
            "Make: Toyota\n",
            "Model: Corolla\n",
            "Availability: True\n",
            "Car ID: 3\n",
            "Make: Ford\n",
            "Model: Mustang\n",
            "Availability: True\n",
            "Car Not Found or Car Already Available\n",
            "Car ID: 1\n",
            "Make: Toyota\n",
            "Model: Corolla\n",
            "Availability: False\n",
            "Car ID: 3\n",
            "Make: Ford\n",
            "Model: Mustang\n",
            "Availability: True\n"
          ]
        }
      ]
    },
    {
      "cell_type": "markdown",
      "source": [
        "# **Class Diagram**\n",
        "A lot of things can go wrong in communication.\n",
        "\n",
        "To ensure that programmers all over understand each other properly, we need a common way of representing a class. This is called as a class diagram. This is similar to a circuit diagram or a plan or machine diagram which allows engineers to understand each others' ideas clearly.\n",
        "\n"
      ],
      "metadata": {
        "id": "oIfTGk3ZScv-"
      }
    },
    {
      "cell_type": "markdown",
      "source": [
        "# **Visibility Notation:**\n",
        "\n",
        "Visibility notations indicate the access level of attributes and methods. Common visibility notations include:\n",
        "*  **+** for public (visible to all classes)\n",
        "*  **-** for private (visible only within the class)\n",
        "*  **#** for protected (visible to subclasses)\n",
        "*  **~** for package or default visibility (visible to classes in the same package)\n",
        "\n",
        "![image.png](data:image/png;base64,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)"
      ],
      "metadata": {
        "id": "tVdEe9jjS_GO"
      }
    },
    {
      "cell_type": "markdown",
      "source": [
        "Note: We can create private methods by adding a double underscore in front of it, just like private variables. Also, if a method has both leading and trailing double underscores ( like __ init __ , __ str __, etc) it indicates that it is a special built-in method. As per coding convention, we are not supposed to create our own methods with both leading and trailing underscores.\n",
        "\n",
        "* If there are both leading and trailing underscores for a method, it is a special built in method\n",
        "\n"
      ],
      "metadata": {
        "id": "-dITLJ5jXVtL"
      }
    },
    {
      "cell_type": "markdown",
      "source": [
        "* Setter methods are called as mutator methods ( as they change or mutate the value ) and the getter methods are called accessor methods ( as they access the values )"
      ],
      "metadata": {
        "id": "RPJ0atl9OHsQ"
      }
    },
    {
      "cell_type": "markdown",
      "source": [
        "# **Abstraction & Encapsulation - Summary**\n",
        "\n",
        "*  Encapsulation is preventing access to a data outside the class\n",
        "\n",
        "*  Adding a __ in front of a attribute makes it private\n",
        "\n",
        "*  In python, adding a __ changes the name of the attribute to _Classname__attribute"
      ],
      "metadata": {
        "id": "IckEFAXwbObJ"
      }
    },
    {
      "cell_type": "markdown",
      "source": [
        "1. Bank Account Management System\n",
        "Create a BankAccount class with private attributes account_number, account_holder, and balance.\n",
        "Implement getter and setter methods for account_number and account_holder.\n",
        "Implement a setter method for balance that checks if the balance being set is non-negative."
      ],
      "metadata": {
        "id": "6umb8CpSciSJ"
      }
    },
    {
      "cell_type": "code",
      "source": [
        "class bankAccount:\n",
        "  def __init__(self, account_number, account_holder, balance):\n",
        "    self.__account_number = account_number\n",
        "    self.__account_holder = account_holder\n",
        "    if(balance>=0):\n",
        "      self.__balance = balance\n",
        "    else:\n",
        "      print(\"Balance Cannot be Negative\")\n",
        "      self.__balance = 0\n",
        "\n",
        "  def getAccountNumber(self):\n",
        "    return self.__account_number\n",
        "\n",
        "  def getAccountHolder(self):\n",
        "    return self.__account_holder\n",
        "\n",
        "  def getBalance(self):\n",
        "    return self.__balance\n",
        "\n",
        "  def setAccountNumber(self, AccNum):\n",
        "    self.__account_number = AccNum\n",
        "\n",
        "  def setAccountHolder(self, AccHolder):\n",
        "    self.__account_holder = AccHolder\n",
        "\n",
        "  def setBalance(self, newBalance):\n",
        "    if(newBalance>=0):\n",
        "      self.__balance = newBalance\n",
        "    else:\n",
        "      print(\"Balance Cannot be Negative\")\n",
        "\n",
        "Account1 = bankAccount(\"A101\", \"Hero\", 1000)\n",
        "print(Account1.getAccountNumber())\n",
        "print(Account1.getAccountHolder())\n",
        "print(Account1.getBalance())\n",
        "Account1.setAccountNumber(\"S101\")\n",
        "Account1.setAccountHolder(\"Zero\")\n",
        "Account1.setBalance(-100)\n",
        "print(Account1.getAccountNumber())\n",
        "print(Account1.getAccountHolder())\n",
        "print(Account1.getBalance())\n",
        "Account1.setBalance(500)\n",
        "print(Account1.getBalance())\n",
        "\n"
      ],
      "metadata": {
        "id": "sdAilm-FckYx",
        "colab": {
          "base_uri": "https://localhost:8080/"
        },
        "outputId": "cc874311-d34b-4fd0-b905-33aab4b04699"
      },
      "execution_count": null,
      "outputs": [
        {
          "output_type": "stream",
          "name": "stdout",
          "text": [
            "A101\n",
            "Hero\n",
            "1000\n",
            "Balance Cannot be Negative\n",
            "S101\n",
            "Zero\n",
            "1000\n",
            "500\n"
          ]
        }
      ]
    },
    {
      "cell_type": "markdown",
      "source": [
        "2. Student Record System\n",
        "Create a Student class with private attributes student_id, name, age, and grades (a list of integers).\n",
        "Implement getter and setter methods for name and age.\n",
        "Implement a setter method for grades that ensures all grades are within a valid range (e.g., 0-100)."
      ],
      "metadata": {
        "id": "TqHHp5E7otii"
      }
    },
    {
      "cell_type": "code",
      "source": [
        "class Student:\n",
        "    def __init__(self, student_id, name, age, grades):\n",
        "        self.__student_id = student_id\n",
        "        self.__name = name\n",
        "        self.__age = age\n",
        "        self.__grades = grades\n",
        "\n",
        "    # Getter for name\n",
        "    def get_name(self):\n",
        "        return self.__name\n",
        "\n",
        "    # Setter for name\n",
        "    def set_name(self, name):\n",
        "        self.__name = name\n",
        "\n",
        "    # Getter for age\n",
        "    def get_age(self):\n",
        "        return self.__age\n",
        "\n",
        "    # Setter for age\n",
        "    def set_age(self, age):\n",
        "        self.__age = age\n",
        "\n",
        "    # Getter for grades\n",
        "    def get_grades(self):\n",
        "        return self.__grades\n",
        "\n",
        "    # Setter for grades with validation\n",
        "    def set_grades(self, grades):\n",
        "        if all(0 <= grade <= 100 for grade in grades):\n",
        "            self.__grades = grades\n",
        "        else:\n",
        "            raise ValueError(\"All grades must be between 0 and 100\")\n",
        "\n"
      ],
      "metadata": {
        "id": "XxT2dFCEqU5g"
      },
      "execution_count": null,
      "outputs": []
    },
    {
      "cell_type": "markdown",
      "source": [
        "3. Employee Management System\n",
        "Create an Employee class with private attributes employee_id, name, position, and salary.\n",
        "Implement getter and setter methods for position.\n",
        "Implement a setter method for salary that ensures the salary being set is positive."
      ],
      "metadata": {
        "id": "mKt8PeFFqwmV"
      }
    },
    {
      "cell_type": "code",
      "source": [
        "class Employee:\n",
        "    def __init__(self, employee_id, name, position, salary):\n",
        "        self.__employee_id = employee_id\n",
        "        self.__name = name\n",
        "        self.__position = position\n",
        "        self.__salary = salary\n",
        "\n",
        "    # Getter for position\n",
        "    def get_position(self):\n",
        "        return self.__position\n",
        "\n",
        "    # Setter for position\n",
        "    def set_position(self, position):\n",
        "        self.__position = position\n",
        "\n",
        "    # Getter for salary\n",
        "    def get_salary(self):\n",
        "        return self.__salary\n",
        "\n",
        "    # Setter for salary with validation\n",
        "    def set_salary(self, salary):\n",
        "        if salary > 0:\n",
        "            self.__salary = salary\n",
        "        else:\n",
        "            raise ValueError(\"Salary must be positive\")\n"
      ],
      "metadata": {
        "id": "ybtIOzlnq07h"
      },
      "execution_count": null,
      "outputs": []
    },
    {
      "cell_type": "markdown",
      "source": [
        "4. Library Book Management System\n",
        "Create a Book class with private attributes title, author, and isbn.\n",
        "Implement getter and setter methods for title and author.\n",
        "Implement a getter method for isbn."
      ],
      "metadata": {
        "id": "pIO0SeharBCC"
      }
    },
    {
      "cell_type": "code",
      "source": [
        "\n",
        "class Book:\n",
        "    def __init__(self, title, author, isbn):\n",
        "        self.__title = title\n",
        "        self.__author = author\n",
        "        self.__isbn = isbn\n",
        "\n",
        "    # Getter for title\n",
        "    def get_title(self):\n",
        "        return self.__title\n",
        "\n",
        "    # Setter for title\n",
        "    def set_title(self, title):\n",
        "        self.__title = title\n",
        "\n",
        "    # Getter for author\n",
        "    def get_author(self):\n",
        "        return self.__author\n",
        "\n",
        "    # Setter for author\n",
        "    def set_author(self, author):\n",
        "        self.__author = author\n",
        "\n",
        "    # Getter for ISBN\n",
        "    def get_isbn(self):\n",
        "        return self.__isbn\n"
      ],
      "metadata": {
        "id": "Bb3TFVyWrJ_T"
      },
      "execution_count": null,
      "outputs": []
    },
    {
      "cell_type": "markdown",
      "source": [
        "5. Online Shopping System\n",
        "Create a Product class with private attributes product_id, name, and price.\n",
        "Implement getter and setter methods for product_id.\n",
        "Implement setter methods for name and price that perform validation (e.g., ensure name is not empty and price is positive)."
      ],
      "metadata": {
        "id": "hX4HjDqdxE9U"
      }
    },
    {
      "cell_type": "code",
      "source": [
        "class Product:\n",
        "    def __init__(self, product_id, name, price):\n",
        "        self.__product_id = product_id\n",
        "        self.__name = name\n",
        "        self.__price = price\n",
        "\n",
        "    # Getter for product_id\n",
        "    def get_product_id(self):\n",
        "        return self.__product_id\n",
        "\n",
        "    # Setter for product_id\n",
        "    def set_product_id(self, product_id):\n",
        "        self.__product_id = product_id\n",
        "\n",
        "    # Getter for name\n",
        "    def get_name(self):\n",
        "        return self.__name\n",
        "\n",
        "    # Setter for name with validation\n",
        "    def set_name(self, name):\n",
        "        if name:\n",
        "            self.__name = name\n",
        "        else:\n",
        "            raise ValueError(\"Name cannot be empty\")\n",
        "\n",
        "    # Getter for price\n",
        "    def get_price(self):\n",
        "        return self.__price\n",
        "\n",
        "    # Setter for price with validation\n",
        "    def set_price(self, price):\n",
        "        if price > 0:\n",
        "            self.__price = price\n",
        "        else:\n",
        "            raise ValueError(\"Price must be positive\")\n"
      ],
      "metadata": {
        "id": "hQ1cWAQTxIpS"
      },
      "execution_count": null,
      "outputs": []
    }
  ]
}